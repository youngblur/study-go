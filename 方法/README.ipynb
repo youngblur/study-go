{
 "cells": [
  {
   "cell_type": "markdown",
   "metadata": {},
   "source": [
    "# 0. 前言\n",
    "- 本文本是利用 [gophernotes](https://github.com/gopherdata/gophernotes#mac) 在 jupyter上运行的结果\n",
    "- 利用jupytext将 .ipynb 转化为 .md"
   ]
  },
  {
   "cell_type": "markdown",
   "metadata": {},
   "source": [
    "# 1. 方法申明"
   ]
  },
  {
   "cell_type": "code",
   "execution_count": 18,
   "metadata": {
    "code_folding": [],
    "collapsed": true
   },
   "outputs": [],
   "source": [
    "import (\n",
    "    \"math\"\n",
    "    \"fmt\"\n",
    ")\n",
    "\n",
    "type Point struct {X, Y float64}\n",
    "\n",
    "// trainditional function\n",
    "func Distance(p, q Point) float64 {\n",
    "    return math.Hypot(q.X - p.X, q.Y - p.Y)\n",
    "}\n",
    "\n",
    "// same thing, but as a method of the Point type\n",
    "func (p Point) Distance(q Point) float64 { \n",
    "    return math.Hypot(q.X-p.X, q.Y-p.Y)\n",
    "}"
   ]
  },
  {
   "cell_type": "markdown",
   "metadata": {},
   "source": [
    "p 叫做方法的接收器， go 没有其他语言那样勇 this 或者 self"
   ]
  },
  {
   "cell_type": "code",
   "execution_count": 3,
   "metadata": {},
   "outputs": [
    {
     "name": "stdout",
     "output_type": "stream",
     "text": [
      "5\n",
      "5\n"
     ]
    },
    {
     "data": {
      "text/plain": [
       "2 <nil>"
      ]
     },
     "execution_count": 3,
     "metadata": {},
     "output_type": "execute_result"
    }
   ],
   "source": [
    "p := Point{1, 2}\n",
    "q := Point{4, 6}\n",
    "fmt.Println(Distance(p, q))\n",
    "fmt.Println(p.Distance(q))"
   ]
  },
  {
   "cell_type": "markdown",
   "metadata": {},
   "source": [
    "go 语言中能够给`任意类型`增加方法"
   ]
  },
  {
   "cell_type": "code",
   "execution_count": 4,
   "metadata": {
    "collapsed": true
   },
   "outputs": [],
   "source": [
    "// 声明 Path 是一个 slice 类型，但是我们也可以为其增加方法\n",
    "type Path []Point \n",
    "\n",
    "func (path Path) Distance() float64 {\n",
    "    sum := 0.0\n",
    "    for i, _ := range path {\n",
    "        if i > 0 {\n",
    "        sum += path[i-1].Distance(path[i])\n",
    "        } \n",
    "    }\n",
    "    return sum \n",
    "}"
   ]
  },
  {
   "cell_type": "code",
   "execution_count": 5,
   "metadata": {
    "code_folding": []
   },
   "outputs": [
    {
     "name": "stdout",
     "output_type": "stream",
     "text": [
      "12\n"
     ]
    },
    {
     "data": {
      "text/plain": [
       "3 <nil>"
      ]
     },
     "execution_count": 5,
     "metadata": {},
     "output_type": "execute_result"
    }
   ],
   "source": [
    "perim := Path{\n",
    "    {1, 1},\n",
    "    {5, 1},\n",
    "    {5, 4},\n",
    "    {1, 1},\n",
    "}\n",
    "fmt.Println(perim.Distance())"
   ]
  },
  {
   "cell_type": "markdown",
   "metadata": {},
   "source": [
    "# 2. 基于指针对象的方法"
   ]
  },
  {
   "cell_type": "markdown",
   "metadata": {},
   "source": [
    "在更新接收器的值时，可以声明指针的形式"
   ]
  },
  {
   "cell_type": "code",
   "execution_count": 7,
   "metadata": {},
   "outputs": [
    {
     "name": "stdout",
     "output_type": "stream",
     "text": [
      "{2 4}\n"
     ]
    },
    {
     "data": {
      "text/plain": [
       "6 <nil>"
      ]
     },
     "execution_count": 7,
     "metadata": {},
     "output_type": "execute_result"
    }
   ],
   "source": [
    "func (p *Point) ScaleBy(factor float64) {\n",
    "    p.X *= factor\n",
    "    p.Y *= factor\n",
    "}\n",
    "\n",
    "r := &Point{1, 2}\n",
    "r.ScaleBy(2)\n",
    "fmt.Println(*r) "
   ]
  },
  {
   "cell_type": "markdown",
   "metadata": {},
   "source": [
    "在go语言中，若接收器 是一个类型的变量，并且其方法需要这个类型的指针作为接收器，我们可以直接传入这个变量，编译器会自动帮我们去变为其指针"
   ]
  },
  {
   "cell_type": "code",
   "execution_count": 8,
   "metadata": {},
   "outputs": [
    {
     "name": "stdout",
     "output_type": "stream",
     "text": [
      "{2 4}\n"
     ]
    },
    {
     "data": {
      "text/plain": [
       "6 <nil>"
      ]
     },
     "execution_count": 8,
     "metadata": {},
     "output_type": "execute_result"
    }
   ],
   "source": [
    "p := Point{1,2}\n",
    "p.ScaleBy(2)\n",
    "fmt.Println(p)"
   ]
  },
  {
   "cell_type": "markdown",
   "metadata": {},
   "source": [
    "但是我们不能通过一个无法取得地址的接收器来调用指针，比如使用临时变量的内存无法获取"
   ]
  },
  {
   "cell_type": "code",
   "execution_count": 10,
   "metadata": {
    "collapsed": true
   },
   "outputs": [],
   "source": [
    "Point{1, 2}.ScaleBy(2) // compile error"
   ]
  },
  {
   "cell_type": "markdown",
   "metadata": {},
   "source": [
    "`nil` 也是一个合法的接收器类型, 所以注意条件判断"
   ]
  },
  {
   "cell_type": "markdown",
   "metadata": {},
   "source": [
    "# 3. 通过嵌入结构体来拓展类型"
   ]
  },
  {
   "cell_type": "code",
   "execution_count": 11,
   "metadata": {
    "collapsed": true
   },
   "outputs": [],
   "source": [
    "import \"image/color\"\n",
    "\n",
    "type ColoredPoint struct {\n",
    "    Point\n",
    "    Color color.RGBA\n",
    "}"
   ]
  },
  {
   "cell_type": "code",
   "execution_count": 12,
   "metadata": {},
   "outputs": [
    {
     "name": "stdout",
     "output_type": "stream",
     "text": [
      "1\n",
      "2\n"
     ]
    },
    {
     "data": {
      "text/plain": [
       "2 <nil>"
      ]
     },
     "execution_count": 12,
     "metadata": {},
     "output_type": "execute_result"
    }
   ],
   "source": [
    "var cp ColoredPoint\n",
    "cp.X = 1\n",
    "fmt.Println(cp.Point.X)  // \"1\"\n",
    "cp.Point.Y = 2\n",
    "fmt.Println(cp.Y)     // “2”"
   ]
  },
  {
   "cell_type": "markdown",
   "metadata": {},
   "source": [
    "ColoredPoint 同样也有 Point类的方法，可以直接调用"
   ]
  },
  {
   "cell_type": "code",
   "execution_count": 15,
   "metadata": {},
   "outputs": [
    {
     "ename": "ERROR",
     "evalue": "repl.go:25:5: undefined \"cache\" in cache.Lock <*ast.SelectorExpr>",
     "output_type": "error",
     "traceback": [
      "repl.go:25:5: undefined \"cache\" in cache.Lock <*ast.SelectorExpr>"
     ]
    }
   ],
   "source": [
    "// 简单的cache\n",
    "import \"sync\"\n",
    "\n",
    "var (\n",
    "    mu sync.Mutex    // mutex 互斥量\n",
    "    mapping = make(map[string]string)\n",
    ")\n",
    "\n",
    "func Lookup(key string) string {\n",
    "    mu.Lock()\n",
    "    v := mapping[key]\n",
    "    mu.Unlock()\n",
    "    return v\n",
    "}\n",
    "\n",
    "// 可以重写为\n",
    "var cache = struct {\n",
    "    sync.Mutex\n",
    "    mapping map[string]string\n",
    "}{\n",
    "    mapping: make(map[string]string),\n",
    "}\n",
    "\n",
    "func Lookup(key string) string {\n",
    "    cache.Lock()\n",
    "    v := cache.mapping[key]\n",
    "    cache.Unlock()\n",
    "    return v\n",
    "}"
   ]
  },
  {
   "cell_type": "markdown",
   "metadata": {},
   "source": [
    "# 4. 方法值和方法表达式"
   ]
  },
  {
   "cell_type": "code",
   "execution_count": 16,
   "metadata": {},
   "outputs": [
    {
     "name": "stdout",
     "output_type": "stream",
     "text": [
      "5\n"
     ]
    },
    {
     "data": {
      "text/plain": [
       "2 <nil>"
      ]
     },
     "execution_count": 16,
     "metadata": {},
     "output_type": "execute_result"
    }
   ],
   "source": [
    "p := Point{1, 2}\n",
    "q := Point{4, 6}\n",
    "distanceFromP := p.Distance\n",
    "fmt.Println(distanceFromP(q))  // 方法可以直接当值传递"
   ]
  },
  {
   "cell_type": "markdown",
   "metadata": {},
   "source": [
    "# 5. 示例：Bit数组"
   ]
  },
  {
   "cell_type": "markdown",
   "metadata": {},
   "source": [
    "一个bit。数组通常为一个无符号数的slice来表示，每一个元素的每一位都表示集合里的一个值"
   ]
  },
  {
   "cell_type": "code",
   "execution_count": 17,
   "metadata": {},
   "outputs": [
    {
     "ename": "ERROR",
     "evalue": "repl.go:8:53: mismatched types in binary operation & between <uint64> and <int>: s.words[word] & (1 << bit)",
     "output_type": "error",
     "traceback": [
      "repl.go:8:53: mismatched types in binary operation & between <uint64> and <int>: s.words[word] & (1 << bit)"
     ]
    }
   ],
   "source": [
    "// An IntSet is a set of small non-negative integers. // Its zero value represents the empty set.\n",
    "type IntSet struct {\n",
    "    words []uint64\n",
    "}\n",
    "// Has reports whether the set contains the non-negative value x.\n",
    "func (s *IntSet) Has(x int) bool {\n",
    "    word, bit := x/64, uint(x%64)\n",
    "    return word < len(s.words) && s.words[word]&(1<<bit) != 0\n",
    "}\n",
    "// Add adds the non-negative value x to the set.\n",
    "func (s *IntSet) Add(x int) { \n",
    "    word, bit := x/64, uint(x%64) \n",
    "    for word >= len(s.words) {\n",
    "        s.words = append(s.words, 0) \n",
    "    }\n",
    "    s.words[word] |= 1 << bit \n",
    "}\n",
    "// UnionWith sets s to the union of s and t.\n",
    "func (s *IntSet) UnionWith(t *IntSet) { \n",
    "    for i, tword := range t.words {\n",
    "        if i < len(s.words) { \n",
    "            s.words[i] |= tword\n",
    "        } else {\n",
    "            s.words = append(s.words, tword)\n",
    "        } \n",
    "    }\n",
    "}"
   ]
  },
  {
   "cell_type": "markdown",
   "metadata": {},
   "source": [
    "# 6. 封装\n",
    "一个对象的变量或者方法对调用方不可见的话，一般定义为\"封装\"\n",
    "- 调用方不能直接修改对象的变量值，\n",
    "- 隐藏实现的细节\n",
    "- 阻止外部调用方对对象内部的值任意进行修改\n",
    "\n",
    "struct 结构小些变量名"
   ]
  },
  {
   "cell_type": "code",
   "execution_count": null,
   "metadata": {
    "collapsed": true
   },
   "outputs": [],
   "source": []
  }
 ],
 "metadata": {
  "jupytext": {
   "formats": "ipynb,md"
  },
  "kernelspec": {
   "display_name": "Go",
   "language": "go",
   "name": "gophernotes"
  },
  "language_info": {
   "codemirror_mode": "",
   "file_extension": ".go",
   "mimetype": "",
   "name": "go",
   "nbconvert_exporter": "",
   "pygments_lexer": "",
   "version": "go1.14.2"
  },
  "toc": {
   "base_numbering": 1,
   "nav_menu": {},
   "number_sections": false,
   "sideBar": true,
   "skip_h1_title": false,
   "title_cell": "Table of Contents",
   "title_sidebar": "Contents",
   "toc_cell": false,
   "toc_position": {},
   "toc_section_display": true,
   "toc_window_display": false
  }
 },
 "nbformat": 4,
 "nbformat_minor": 4
}

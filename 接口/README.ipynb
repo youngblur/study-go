{
 "cells": [
  {
   "cell_type": "markdown",
   "metadata": {},
   "source": [
    "# 0. 前言\n",
    "- 本章是利用 [gophernotes](https://github.com/gopherdata/gophernotes#mac) 在 jupyter上运行的结果\n",
    "- 利用jupytext将 .ipynb 转化为 .md"
   ]
  },
  {
   "cell_type": "markdown",
   "metadata": {},
   "source": [
    "# 1. 接口约定\n",
    "- 接口是一种抽象类型。它不会暴露出所代表的对象的内部值的结构，只会展现它自己的方法"
   ]
  },
  {
   "cell_type": "code",
   "execution_count": 8,
   "metadata": {
    "collapsed": true
   },
   "outputs": [],
   "source": [
    "package fmt\n",
    "import (\n",
    "    \"io\"\n",
    "    \"os\"\n",
    "    \"bytes\"\n",
    ")\n",
    "\n",
    "func Fprintf(w io.Writer, format string, args ...interface{}) (int, error) \n",
    "func Printf(format string, args ...interface{}) (int, error) {\n",
    "    return Fprintf(os.Stdout, format, args...) \n",
    "}\n",
    "func Sprintf(format string, args ...interface{}) string { \n",
    "    var buf bytes.Buffer\n",
    "    Fprintf(&buf, format, args...)\n",
    "    return buf.String()\n",
    "}"
   ]
  },
  {
   "cell_type": "markdown",
   "metadata": {},
   "source": [
    "# 2. 接口类型"
   ]
  },
  {
   "cell_type": "code",
   "execution_count": 11,
   "metadata": {},
   "outputs": [
    {
     "ename": "ERROR",
     "evalue": "go/parser internal error: identifier already declared or resolved",
     "output_type": "error",
     "traceback": [
      "go/parser internal error: identifier already declared or resolved"
     ]
    }
   ],
   "source": [
    "type Reader interface {\n",
    "    Read(p []byte) (n int, err error)\n",
    "}\n",
    "type Closer interface {\n",
    "    Close() error\n",
    "}\n",
    "\n",
    "type ReadWriterCloser interface {\n",
    "    Reader\n",
    "    Writer\n",
    "    Closer\n",
    "}"
   ]
  },
  {
   "cell_type": "markdown",
   "metadata": {},
   "source": [
    "# 3. 实现接口的条件\n",
    "- 一个类型拥有一个接口所需要的所有方法，那么这个类型就实现了这个接口"
   ]
  },
  {
   "cell_type": "code",
   "execution_count": 12,
   "metadata": {
    "collapsed": true
   },
   "outputs": [],
   "source": [
    "// 空接口, 我们可以将任意一个赋值类型给空接口\n",
    "\n",
    "var any interface{}\n",
    "any = true\n",
    "any = map[string]int{\"one\": 1}\n",
    "any = \"hello\""
   ]
  },
  {
   "cell_type": "markdown",
   "metadata": {},
   "source": [
    "# 4. flag.Value 接口"
   ]
  },
  {
   "cell_type": "code",
   "execution_count": 17,
   "metadata": {},
   "outputs": [
    {
     "name": "stdout",
     "output_type": "stream",
     "text": [
      "Sleep for 1s...\n"
     ]
    }
   ],
   "source": [
    "import (\n",
    "    \"time\"\n",
    "    \"flag\"\n",
    "    \"fmt\"\n",
    ")\n",
    "var period = flag.Duration(\"period\", 1*time.Second, \"sleep period\")\n",
    "\n",
    "func main(){\n",
    "    flag.Parse()\n",
    "    fmt.Printf(\"Sleep for %v...\", *period)\n",
    "    time.Sleep(*period)\n",
    "    fmt.Println()\n",
    "}\n",
    "main()"
   ]
  },
  {
   "cell_type": "markdown",
   "metadata": {},
   "source": [
    "可以使用命令行进行交互，设置 `period` 的值, 如\n",
    "```\n",
    "go build sleep\n",
    "\n",
    "./sleep -period 50ms\n",
    "\n",
    "./sleep -period \"1 day\"\n",
    "```"
   ]
  },
  {
   "cell_type": "markdown",
   "metadata": {},
   "source": [
    "# 5. 接口值"
   ]
  },
  {
   "cell_type": "code",
   "execution_count": 19,
   "metadata": {},
   "outputs": [
    {
     "name": "stdout",
     "output_type": "stream",
     "text": [
      "<nil>\n",
      "*os.File\n",
      "*bytes.Buffer\n"
     ]
    },
    {
     "data": {
      "text/plain": [
       "14 <nil>"
      ]
     },
     "execution_count": 19,
     "metadata": {},
     "output_type": "execute_result"
    }
   ],
   "source": [
    "var w io.Writer\n",
    "fmt.Printf(\"%T\\n\", w) // \"<nil>\"\n",
    "w = os.Stdout\n",
    "fmt.Printf(\"%T\\n\", w) // \"*os.File\"\n",
    "w = new(bytes.Buffer)\n",
    "fmt.Printf(\"%T\\n\", w) // \"*bytes.Buffer\""
   ]
  },
  {
   "cell_type": "markdown",
   "metadata": {},
   "source": [
    "# 6. sort.Interface 接口\n",
    "一个内置的排序算法需要知道三个东西：\n",
    "- 序列的长度\n",
    "- 表示两个元素比较的结果\n",
    "- 一种交换两个元素的方式"
   ]
  },
  {
   "cell_type": "code",
   "execution_count": 21,
   "metadata": {
    "collapsed": true
   },
   "outputs": [],
   "source": [
    "type Interface interface {\n",
    "    Len() int\n",
    "    Less(i, j int) bool\n",
    "    Swap(i, j int)\n",
    "}"
   ]
  },
  {
   "cell_type": "code",
   "execution_count": 25,
   "metadata": {
    "collapsed": true
   },
   "outputs": [],
   "source": [
    "type StringSlice []string\n",
    "func (p StringSlice) Len() int {return len(p)}\n",
    "func (p StringSlice) Less(i, j int) bool {return p[i] < p[j]}\n",
    "func (p StringSlice) Swap(i, j int)  {p[i], p[j] = p[j], p[i]}"
   ]
  },
  {
   "cell_type": "markdown",
   "metadata": {},
   "source": [
    "# 7. http.Handler接口"
   ]
  },
  {
   "cell_type": "code",
   "execution_count": 1,
   "metadata": {
    "collapsed": true
   },
   "outputs": [],
   "source": [
    "type Handler interface {\n",
    "    ServeHTTP(w ResponseWriter, r *Request)\n",
    "}\n",
    "\n",
    "func ListenAndServe(address string, h Handler) error"
   ]
  },
  {
   "cell_type": "markdown",
   "metadata": {},
   "source": [
    "# 8. error 接口"
   ]
  },
  {
   "cell_type": "code",
   "execution_count": 5,
   "metadata": {
    "collapsed": true
   },
   "outputs": [],
   "source": [
    "type error interface {\n",
    "    Error() string\n",
    "}\n"
   ]
  },
  {
   "cell_type": "code",
   "execution_count": 7,
   "metadata": {
    "collapsed": true
   },
   "outputs": [],
   "source": [
    "// 创建 error 最简单的方式是调用 errors.New函数\n",
    "\n",
    "type errorString struct {text string }\n",
    "\n",
    "func New(text string) error {\n",
    "    return &errorString{text}\n",
    "}\n",
    "func (e *errorString) Error() string { return e.text }"
   ]
  },
  {
   "cell_type": "markdown",
   "metadata": {},
   "source": [
    "# 9. 示例：表达式求值"
   ]
  },
  {
   "cell_type": "code",
   "execution_count": 18,
   "metadata": {
    "collapsed": true
   },
   "outputs": [],
   "source": [
    "type Expr interface{} "
   ]
  },
  {
   "cell_type": "markdown",
   "metadata": {},
   "source": [
    "实现如下示例：\n",
    "- sqrt(A / pi)\n",
    "- pow(x, 3) + pow(y, 3)\n",
    "- (F - 32) * 5 / 9"
   ]
  },
  {
   "cell_type": "code",
   "execution_count": 19,
   "metadata": {
    "collapsed": true
   },
   "outputs": [],
   "source": [
    "type Var string // 识别一个变量, e.g.: x\n",
    "\n",
    "type literal float64 // 识别一个常量， e.g. 3.14\n",
    "\n",
    "// 一元操作表达式\n",
    "type unary struct{\n",
    "    op rune  // one of '+', '-'\n",
    "    x Expr\n",
    "}\n",
    "\n",
    "// 二元操作\n",
    "type binary struct{\n",
    "    op rune   // one of '+', '-' ,' *' . '/'\n",
    "    x, y Expr\n",
    "}\n",
    "\n",
    "type call struct{\n",
    "    fn string   // one of 'pow', 'sin', 'sqrt'\n",
    "    args []Expr\n",
    "}"
   ]
  },
  {
   "cell_type": "markdown",
   "metadata": {},
   "source": [
    "需要将变量映射为对应的值"
   ]
  },
  {
   "cell_type": "code",
   "execution_count": 20,
   "metadata": {
    "collapsed": true
   },
   "outputs": [],
   "source": [
    "type Env map[Var]float64"
   ]
  },
  {
   "cell_type": "code",
   "execution_count": 21,
   "metadata": {
    "collapsed": true
   },
   "outputs": [],
   "source": [
    "// 根据变量，返回表达式的值\n",
    "type Expr interface{\n",
    "    Eval(env Env) float64\n",
    "}"
   ]
  },
  {
   "cell_type": "code",
   "execution_count": 22,
   "metadata": {
    "collapsed": true
   },
   "outputs": [],
   "source": [
    "func (v Var) Eval(env Env) float64{\n",
    "    return env[v]\n",
    "}\n",
    "func (l literal) Eval(_ Env) float64{\n",
    "    return float64(l)\n",
    "}"
   ]
  },
  {
   "cell_type": "code",
   "execution_count": 25,
   "metadata": {},
   "outputs": [
    {
     "ename": "ERROR",
     "evalue": "repl.go:4:17: invalid qualified type, expecting packagename.identifier, found: u.x.Eval <*ast.SelectorExpr>",
     "output_type": "error",
     "traceback": [
      "repl.go:4:17: invalid qualified type, expecting packagename.identifier, found: u.x.Eval <*ast.SelectorExpr>"
     ]
    }
   ],
   "source": [
    "func (u unary) Eval(env Env) float64{\n",
    "    switch u.op {\n",
    "    case '+':\n",
    "        return +u.x.Eval(env)\n",
    "    case '-':\n",
    "        return -u.x.Eval(env)\n",
    "    }\n",
    "    panic(fmt.Sprintf(\"unsupport unary operator : %q\", u.op))\n",
    "}\n",
    "\n",
    "func (b binary) Eval(env Env) float64 {\n",
    "    switch b.op {\n",
    "    case '+':\n",
    "        return b.x.Eval(env) + v.y.Eval(env)\n",
    "    case '-':\n",
    "        return b.x.Eval(env) - b.y.Eval(env)\n",
    "    case '*':\n",
    "        return b.x.Eval(env) * b.y.Eval(env)\n",
    "    case '/':\n",
    "        return b.x.Eval(env) / b.y.Eval(env)\n",
    "    }\n",
    "    panic(fmt.Sprintf(\"unsupported binary operator: %q\", b.op)) \n",
    "}\n",
    "\n",
    "func (c call) Eval(env Env) float64 { \n",
    "    switch c.fn {\n",
    "    case \"pow\":\n",
    "        return math.Pow(c.args[0].Eval(env), c.args[1].Eval(env))\n",
    "    case \"sin\":\n",
    "        return math.Sin(c.args[0].Eval(env))\n",
    "    case \"sqrt\":\n",
    "        return math.Sqrt(c.args[0].Eval(env))\n",
    "    }\n",
    "    panic(fmt.Sprintf(\"unsupported function call: %s\", c.fn))\n",
    "}"
   ]
  },
  {
   "cell_type": "code",
   "execution_count": 29,
   "metadata": {},
   "outputs": [
    {
     "ename": "ERROR",
     "evalue": "repl.go:25:28: expression returns 1 value, expecting 2: Parse(test.expr)",
     "output_type": "error",
     "traceback": [
      "repl.go:25:28: expression returns 1 value, expecting 2: Parse(test.expr)"
     ]
    }
   ],
   "source": [
    "import (\n",
    "    \"testing\"\n",
    "    \"math\"\n",
    "    \"fmt\"\n",
    ")\n",
    "func TestEval(t *testing.T) { \n",
    "    tests := []struct {\n",
    "        expr string\n",
    "        env  Env\n",
    "        want string\n",
    "    }{\n",
    "        {\"sqrt(A / pi)\", Env{\"A\": 87616, \"pi\": math.Pi}, \"167\"}, {\"pow(x, 3) + pow(y, 3)\", Env{\"x\": 12, \"y\": 1}, \"1729\"}, {\"pow(x, 3) + pow(y, 3)\", Env{\"x\": 9, \"y\": 10}, \"1729\"}, {\"5 / 9 * (F - 32)\", Env{\"F\": -40}, \"-40\"},\n",
    "        {\"5 / 9 * (F - 32)\", Env{\"F\": 32}, \"0\"},\n",
    "        {\"5 / 9 * (F - 32)\", Env{\"F\": 212}, \"100\"},\n",
    "    }\n",
    "                             \n",
    "    var prevExpr string\n",
    "                             \n",
    "    for _, test := range tests {\n",
    "// Print expr only when it changes.\n",
    "        if test.expr != prevExpr { \n",
    "            fmt.Printf(\"\\n%s\\n\", test.expr) \n",
    "            prevExpr = test.expr\n",
    "        }\n",
    "        expr, err := Parse(test.expr) \n",
    "        if err != nil {\n",
    "            t.Error(err) // parse error\n",
    "            continue\n",
    "        }\n",
    "        got := fmt.Sprintf(\"%.6g\", expr.Eval(test.env)) \n",
    "        fmt.Printf(\"\\t%v => %s\\n\", test.env, got)\n",
    "        if got != test.want {\n",
    "            t.Errorf(\"%s.Eval() in %v = %q, want %q\\n\",\n",
    "            test.expr, test.env, got, test.want)\n",
    "        }\n",
    "    }\n",
    "}"
   ]
  },
  {
   "cell_type": "markdown",
   "metadata": {},
   "source": [
    "# 10. 类型断言\n",
    "- 语法上看起来像 `x.(T)` 被称为断言类型\n",
    "- 用来检查它操作对象的动态类型是否和断言类型匹配"
   ]
  },
  {
   "cell_type": "code",
   "execution_count": 34,
   "metadata": {},
   "outputs": [
    {
     "ename": "ERROR",
     "evalue": "repl.go:6:10: undefined \"bytes\" in bytes.Buffer <*ast.SelectorExpr>",
     "output_type": "error",
     "traceback": [
      "repl.go:6:10: undefined \"bytes\" in bytes.Buffer <*ast.SelectorExpr>"
     ]
    }
   ],
   "source": [
    "import \"io\"\n",
    "\n",
    "var w io.Writer\n",
    "w = os.Stdout\n",
    "f := w.(*os.File)        //success : f == os.Stdout\n",
    "c := w.(*bytes.Buffer)   // panic: interface holds *os.File"
   ]
  },
  {
   "cell_type": "markdown",
   "metadata": {},
   "source": [
    "# 11. 基于类型断言区别错误类型\n",
    "形如\n",
    "```\n",
    " if some, ok := err.(*someError), ok {\n",
    "     。。。\n",
    " }\n",
    "```"
   ]
  },
  {
   "cell_type": "markdown",
   "metadata": {},
   "source": [
    "# 12. 通过类型断言询问行为"
   ]
  },
  {
   "cell_type": "markdown",
   "metadata": {},
   "source": [
    "# 13. 类型开关"
   ]
  },
  {
   "cell_type": "code",
   "execution_count": 36,
   "metadata": {
    "collapsed": true
   },
   "outputs": [],
   "source": [
    "func sqlQuote(x interface{}) string { \n",
    "    switch x := x.(type) {\n",
    "    case nil:\n",
    "        return \"NULL\"\n",
    "    case int, uint:\n",
    "        return fmt.Sprintf(\"%d\", x) // x has type interface{} here. \n",
    "    case bool:\n",
    "        if x {\n",
    "            return \"TRUE\"\n",
    "        }\n",
    "        return \"FALSE\"\n",
    "    case string:\n",
    "        return sqlQuoteString(x) // (not shown)\n",
    "    default:\n",
    "        panic(fmt.Sprintf(\"unexpected type %T: %v\", x, x)) \n",
    "    }\n",
    "}"
   ]
  },
  {
   "cell_type": "markdown",
   "metadata": {},
   "source": [
    "# 14. 示例：基于标记的 XML解码\n",
    "略"
   ]
  },
  {
   "cell_type": "code",
   "execution_count": null,
   "metadata": {
    "collapsed": true
   },
   "outputs": [],
   "source": []
  }
 ],
 "metadata": {
  "kernelspec": {
   "display_name": "Go",
   "language": "go",
   "name": "gophernotes"
  },
  "language_info": {
   "codemirror_mode": "",
   "file_extension": ".go",
   "mimetype": "",
   "name": "go",
   "nbconvert_exporter": "",
   "pygments_lexer": "",
   "version": "go1.14.2"
  },
  "toc": {
   "base_numbering": 1,
   "nav_menu": {},
   "number_sections": false,
   "sideBar": true,
   "skip_h1_title": false,
   "title_cell": "Table of Contents",
   "title_sidebar": "Contents",
   "toc_cell": false,
   "toc_position": {
    "height": "calc(100% - 180px)",
    "left": "10px",
    "top": "150px",
    "width": "165px"
   },
   "toc_section_display": true,
   "toc_window_display": false
  }
 },
 "nbformat": 4,
 "nbformat_minor": 4
}
